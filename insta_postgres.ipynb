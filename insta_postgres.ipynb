{
 "cells": [
  {
   "attachments": {},
   "cell_type": "markdown",
   "metadata": {},
   "source": [
    "### Import Dependancies"
   ]
  },
  {
   "cell_type": "code",
   "execution_count": 171,
   "metadata": {},
   "outputs": [],
   "source": [
    "import pandas as pd\n",
    "import numpy as np\n",
    "import matplotlib.pyplot as plt\n",
    "from pathlib import Path\n",
    "import psycopg2\n",
    "from sqlalchemy import create_engine\n",
    "from datetime import datetime, timedelta\n",
    "from sqlalchemy import create_engine, MetaData, ForeignKey, Column, Integer, String, Date, Boolean, DateTime\n",
    "from sqlalchemy.ext.declarative import declarative_base\n",
    "from sqlalchemy.orm import relationship, sessionmaker\n",
    "from sqlalchemy_utils import create_database, database_exists\n",
    "from pg_config import pg_password, pg_user, pg_host, pg_port "
   ]
  },
  {
   "attachments": {},
   "cell_type": "markdown",
   "metadata": {},
   "source": [
    "### Read in and clean data"
   ]
  },
  {
   "cell_type": "code",
   "execution_count": 172,
   "metadata": {},
   "outputs": [
    {
     "name": "stdout",
     "output_type": "stream",
     "text": [
      "dict_keys(['photo_tags', 'photos', 'users', 'tags', 'comments', 'likes', 'follows'])\n"
     ]
    }
   ],
   "source": [
    "# Read in all the csv files from the data folder and save them as a dictionary of DataFrames\n",
    "data_dir = Path('data')\n",
    "dfs = {}\n",
    "\n",
    "try:\n",
    "    for file_path in data_dir.glob('*.csv'):\n",
    "        if file_path.is_file():\n",
    "            # Get the filename without extension\n",
    "            file_name = file_path.stem  \n",
    "            df = pd.read_csv(file_path)\n",
    "            dfs[file_name] = df\n",
    "except Exception as e:\n",
    "    print(f\"Error occurred: {e}\")\n",
    "\n",
    "# Check the keys of the dictionary\n",
    "print(dfs.keys())\n",
    "\n",
    "# Save each DataFrame as individual dfs\n",
    "for key, df in dfs.items():\n",
    "    globals()[f'df_{key}'] = df"
   ]
  },
  {
   "cell_type": "code",
   "execution_count": 173,
   "metadata": {},
   "outputs": [
    {
     "name": "stdout",
     "output_type": "stream",
     "text": [
      "Nulls in DataFrame photo_tags:\n",
      "0\n",
      "Nulls in DataFrame photos:\n",
      "0\n",
      "Nulls in DataFrame users:\n",
      "0\n",
      "Nulls in DataFrame tags:\n",
      "0\n",
      "Nulls in DataFrame comments:\n",
      "0\n",
      "Nulls in DataFrame likes:\n",
      "0\n",
      "Nulls in DataFrame follows:\n",
      "0\n"
     ]
    }
   ],
   "source": [
    "# Check for nulls in each df\n",
    "for key, df in dfs.items():\n",
    "    print(f\"Nulls in DataFrame {key}:\")\n",
    "    print(df.isnull().sum().sum())\n"
   ]
  },
  {
   "cell_type": "code",
   "execution_count": 174,
   "metadata": {},
   "outputs": [],
   "source": [
    "# Replace spaces with underscores in the column names and make all lowercase\n",
    "for key, df in dfs.items():\n",
    "    df.columns = df.columns.str.replace(' ', '_')\n",
    "    df.columns = df.columns.str.lower()"
   ]
  },
  {
   "cell_type": "code",
   "execution_count": 175,
   "metadata": {},
   "outputs": [],
   "source": [
    "# Change yes/no columns to boolean values and data type\n",
    "for key, df in dfs.items():\n",
    "    for col in df.columns:\n",
    "        # If columns only contain yes or no, change to boolean\n",
    "        if df[col].isin(['yes', 'no']).all():\n",
    "            df[col] = df[col].map({'yes': True, 'no': False})"
   ]
  },
  {
   "cell_type": "code",
   "execution_count": 176,
   "metadata": {},
   "outputs": [],
   "source": [
    "# Convert the created columns to datetime data type\n",
    "date_time_cols = ['created_dat','created_date', 'created_time', 'created_timestamp']\n",
    "\n",
    "for key, df in dfs.items():\n",
    "    for col in date_time_cols:\n",
    "        if col in df.columns:\n",
    "            df[col] = pd.to_datetime(df[col], errors='coerce')  # Coerce will return NaT for invalid dates\n"
   ]
  },
  {
   "cell_type": "code",
   "execution_count": 177,
   "metadata": {},
   "outputs": [],
   "source": [
    "# Create new id columns for the likes and follows dataframes as they will be used as foreign keys in the interactions table\n",
    "df_likes['like_id'] = (df_likes.index + 1).astype(int)\n",
    "df_follows['follow_id'] = df_follows.index + 1"
   ]
  },
  {
   "cell_type": "code",
   "execution_count": 178,
   "metadata": {},
   "outputs": [],
   "source": [
    "# Rename the columns in each dataframe to match the database schema\n",
    "df_photos.rename(columns={'created_dat': 'created_date','id':'photo_id'}, inplace=True)\n",
    "df_users.rename(columns={'id': 'user_id','private/public':'private'}, inplace=True)\n",
    "df_tags.rename(columns={'id': 'tag_id'}, inplace=True)\n",
    "df_comments.rename(columns={'user__id': 'user_id','id':'comment_id','created_timestamp':'created_time'}, inplace=True)\n",
    "df_likes.rename(columns={'user_': 'user_id', 'photo': 'photo_id'}, inplace=True)\n",
    "df_follows.rename(columns={'follower': 'follower_user_id', 'followee_': 'user_id'}, inplace=True)"
   ]
  },
  {
   "cell_type": "markdown",
   "metadata": {},
   "source": [
    "##### Create interaction dataframe from likes, comments, and follows dataframes"
   ]
  },
  {
   "cell_type": "code",
   "execution_count": 179,
   "metadata": {},
   "outputs": [],
   "source": [
    "# Combine Likes, Comments, and Follows DataFrames into a single Interactions DataFrame\n",
    "df_interactions = pd.concat([df_likes, df_comments, df_follows], ignore_index=True)\n",
    "\n",
    "# Create interaction_id column\n",
    "df_interactions['interaction_id'] = df_interactions.index + 1\n",
    "\n",
    "# Add a new column to indicate the type of interaction ('like', 'comment', or 'follow')\n",
    "df_interactions['interaction_type'] = pd.Series(['like'] * len(df_likes) + ['comment'] * len(df_comments) + ['follow'] * len(df_follows))\n",
    "\n",
    "# Add an interaction date column (you can use 'created_time' column or any other appropriate date column)\n",
    "df_interactions['interaction_date'] = df_interactions['created_time']\n",
    "\n",
    "# List of columns to keep\n",
    "keep_cols = ['interaction_id', 'interaction_type', 'interaction_date', 'user_id', 'photo_id', 'comment_id', 'like_id','follow_id']\n",
    "\n",
    "# Remove columns that are not in the keep_cols list\n",
    "df_interactions = df_interactions[[col for col in df_interactions.columns if col in keep_cols]]\n",
    "\n",
    "# Make sure the id columns are integers even though they contain NaN values\n",
    "id_cols = ['user_id', 'photo_id', 'comment_id', 'like_id', 'follow_id']\n",
    "for col in id_cols:\n",
    "    df_interactions[col] = df_interactions[col].astype('Int64')\n"
   ]
  },
  {
   "attachments": {},
   "cell_type": "markdown",
   "metadata": {},
   "source": [
    "### Create a PostgesSQL Database \n",
    "The database is designed in a star schema with a the central facts table being the Interactions table and all others the being the dimension tables. "
   ]
  },
  {
   "cell_type": "code",
   "execution_count": 180,
   "metadata": {},
   "outputs": [],
   "source": [
    "# Parameters for connecting to the database and creating the engine\n",
    "db_params = {\n",
    "    \"host\": \"localhost\",\n",
    "    \"port\": int(pg_port),\n",
    "    \"database\": \"insta_db\",\n",
    "    \"user\": pg_user,\n",
    "    \"password\": pg_password,\n",
    "}\n",
    "\n",
    "# Create connection engine\n",
    "db_conn_string = f\"postgresql://{db_params['user']}:{db_params['password']}@{db_params['host']}:{db_params['port']}/{db_params['database']}\"\n",
    "engine = create_engine(db_conn_string)\n"
   ]
  },
  {
   "cell_type": "code",
   "execution_count": 181,
   "metadata": {},
   "outputs": [],
   "source": [
    "# Declarative base is used to create the Object Relational Mapping of the tables in the database\n",
    "Base = declarative_base()\n",
    "\n",
    "# Define the User table\n",
    "class User(Base):\n",
    "    __tablename__ = \"users\"\n",
    "    user_id = Column(Integer, primary_key=True, unique=True)\n",
    "    name = Column(String)\n",
    "    created_time = Column(Date)\n",
    "    private = Column(Boolean)\n",
    "    post_count = Column(Integer)\n",
    "    verified_status = Column(Boolean)\n",
    "    photos = relationship(\"Photo\", back_populates=\"user\")\n",
    "    followers = relationship(\"Follow\", foreign_keys='[Follow.user_id]', back_populates=\"user\")\n",
    "    following = relationship(\"Follow\", foreign_keys='[Follow.follower_user_id]', back_populates=\"follower\")\n",
    "\n",
    "# Define the Photo table\n",
    "class Photo(Base):\n",
    "    __tablename__ = \"photos\"\n",
    "    photo_id = Column(Integer, primary_key=True, unique=True)\n",
    "    image_link = Column(String)\n",
    "    user_id = Column(Integer, ForeignKey(\"users.user_id\"), index=True)\n",
    "    created_date = Column(Date)\n",
    "    insta_filter_used = Column(Boolean)\n",
    "    photo_type = Column(String)\n",
    "    user = relationship(\"User\", back_populates=\"photos\")\n",
    "\n",
    "# Define the Tag table\n",
    "class Tag(Base):\n",
    "    __tablename__ = \"tags\"\n",
    "    tag_id = Column(Integer, primary_key=True, unique=True)\n",
    "    tag_text = Column(String)\n",
    "    created_time = Column(Date)\n",
    "    location = Column(String)\n",
    "\n",
    "# Define the Comment table\n",
    "class Comment(Base):\n",
    "    __tablename__ = \"comments\"\n",
    "    comment_id = Column(Integer, primary_key=True, unique=True)\n",
    "    user_id = Column(Integer, ForeignKey(\"users.user_id\"), index=True)\n",
    "    photo_id = Column(Integer, ForeignKey(\"photos.photo_id\"), index=True)\n",
    "    created_time = Column(DateTime)\n",
    "    posted_date = Column(String)\n",
    "    comment = Column(String)\n",
    "    emoji_used = Column(Boolean)\n",
    "    hashtags_used_count = Column(Integer)\n",
    "\n",
    "# Define the Like table\n",
    "class Like(Base):\n",
    "    __tablename__ = \"likes\"\n",
    "    like_id = Column(Integer, primary_key=True, unique=True)\n",
    "    user_id = Column(Integer, ForeignKey(\"users.user_id\"), index=True)\n",
    "    photo_id = Column(Integer, ForeignKey(\"photos.photo_id\"), index=True)\n",
    "    created_time = Column(Date)\n",
    "    following_or_not = Column(Boolean)\n",
    "    like_type = Column(String)\n",
    "\n",
    "# Define the Follow table\n",
    "class Follow(Base):\n",
    "    __tablename__ = \"follows\"\n",
    "    follow_id = Column(Integer, primary_key=True, unique=True)\n",
    "    follower_user_id = Column(Integer, ForeignKey(\"users.user_id\"), index=True)\n",
    "    user_id = Column(Integer, ForeignKey(\"users.user_id\"), index=True)\n",
    "    created_time = Column(Date)\n",
    "    is_follower_active = Column(Integer)\n",
    "    followee_acc_status = Column(String)\n",
    "    user = relationship(\"User\", foreign_keys=[user_id], back_populates=\"followers\")\n",
    "    follower = relationship(\"User\", foreign_keys=[follower_user_id], back_populates=\"following\")\n",
    "\n",
    "# Define the Interactions Table which is the central fact table of the database\n",
    "class Interactions(Base):\n",
    "    __tablename__ = \"interactions\"\n",
    "    interaction_id = Column(Integer, primary_key=True, unique=True)\n",
    "    user_id = Column(Integer, ForeignKey(\"users.user_id\"), index=True)\n",
    "    photo_id = Column(Integer, ForeignKey(\"photos.photo_id\"), index=True)\n",
    "    tag_id = Column(Integer, ForeignKey(\"tags.tag_id\"), index=True)\n",
    "    comment_id = Column(Integer, ForeignKey(\"comments.comment_id\"), index=True)\n",
    "    like_id = Column(Integer, ForeignKey(\"likes.like_id\"), index=True)\n",
    "    follow_id = Column(Integer, ForeignKey(\"follows.follow_id\"), index=True)\n",
    "    interaction_date = Column(Date)\n",
    "    interaction_type = Column(String)\n",
    "\n",
    "# Create the database if it doesn't exist, which it shouldn't\n",
    "if not database_exists(engine.url):\n",
    "    create_database(engine.url)\n",
    "\n",
    "# Using the metadata from the Base class, create the tables in the database\n",
    "Base.metadata.create_all(bind=engine, checkfirst=True)\n",
    "\n",
    "# Create a session to create the tables\n",
    "Session = sessionmaker(bind=engine)\n",
    "session = Session()\n",
    "\n",
    "# Insert data into the tables \n",
    "df_users.to_sql(\"users\", engine, if_exists='append', index=False)\n",
    "df_photos.to_sql(\"photos\", engine, if_exists='append', index=False)\n",
    "df_likes.to_sql(\"likes\", engine, if_exists='append', index=False)\n",
    "df_comments.to_sql(\"comments\", engine, if_exists='append', index=False)\n",
    "df_follows.to_sql(\"follows\", engine, if_exists='append', index=False)\n",
    "df_tags.to_sql(\"tags\", engine, if_exists='append', index=False)\n",
    "df_photo_tags.to_sql(\"photo_Tags\", engine, if_exists='append', index=False)\n",
    "df_interactions.to_sql(\"interactions\", engine, if_exists='append', index=False)\n",
    "\n",
    "# Commit the changes and close the session\n",
    "session.commit()\n",
    "session.close()\n"
   ]
  },
  {
   "attachments": {},
   "cell_type": "markdown",
   "metadata": {},
   "source": [
    "### Test Query the Database"
   ]
  },
  {
   "cell_type": "code",
   "execution_count": 182,
   "metadata": {},
   "outputs": [
    {
     "name": "stdout",
     "output_type": "stream",
     "text": [
      "Number of photos in the photos table: 257\n",
      "Number of users in the users table: 100\n",
      "Number of tags in the tags table: 21\n",
      "Number of likes in the interactions table: 8782\n",
      "Number of comments in the interactions table: 7488\n",
      "Number of follows in the interactions table: 7623\n"
     ]
    }
   ],
   "source": [
    "Session = sessionmaker(bind=engine)\n",
    "session = Session()\n",
    "\n",
    "# Query and print the # of photos in the photos table\n",
    "photo_count = session.query(Photo).count()\n",
    "print(f\"Number of photos in the photos table: {photo_count}\")\n",
    "\n",
    "# Query and print the # of users in the users table\n",
    "user_count = session.query(User).count()\n",
    "print(f\"Number of users in the users table: {user_count}\")\n",
    "\n",
    "# Query the count of distinct tags in the tags table\n",
    "tag_count = session.query(Tag).count()\n",
    "print(f\"Number of tags in the tags table: {tag_count}\")\n",
    "\n",
    "# Query and print the # of likes in the interactions table\n",
    "like_count = session.query(Interactions).filter(Interactions.interaction_type == 'like').count()\n",
    "print(f\"Number of likes in the interactions table: {like_count}\")\n",
    "\n",
    "# Query and print the # of comments in the interactions table\n",
    "comment_count = session.query(Interactions).filter(Interactions.interaction_type == 'comment').count()\n",
    "print(f\"Number of comments in the interactions table: {comment_count}\")\n",
    "\n",
    "# Query and print the # of follows in the interactions table\n",
    "follow_count = session.query(Interactions).filter(Interactions.interaction_type == 'follow').count()\n",
    "print(f\"Number of follows in the interactions table: {follow_count}\")\n",
    "\n",
    "session.close()"
   ]
  }
 ],
 "metadata": {
  "kernelspec": {
   "display_name": "dev",
   "language": "python",
   "name": "python3"
  },
  "language_info": {
   "codemirror_mode": {
    "name": "ipython",
    "version": 3
   },
   "file_extension": ".py",
   "mimetype": "text/x-python",
   "name": "python",
   "nbconvert_exporter": "python",
   "pygments_lexer": "ipython3",
   "version": "3.10.11 (main, Apr 20 2023, 13:59:00) [Clang 14.0.6 ]"
  },
  "orig_nbformat": 4,
  "vscode": {
   "interpreter": {
    "hash": "4396f389b93e7269692bd3bea4c62813bbe379469bde939b058805f538feec11"
   }
  }
 },
 "nbformat": 4,
 "nbformat_minor": 2
}
