{
 "cells": [
  {
   "attachments": {},
   "cell_type": "markdown",
   "metadata": {},
   "source": [
    "### Import Dependancies"
   ]
  },
  {
   "cell_type": "code",
   "execution_count": 65,
   "metadata": {},
   "outputs": [],
   "source": [
    "import pandas as pd\n",
    "import numpy as np\n",
    "import matplotlib.pyplot as plt\n",
    "from pathlib import Path\n",
    "import psycopg2\n",
    "from datetime import datetime, timedelta\n",
    "import sqlite3"
   ]
  },
  {
   "attachments": {},
   "cell_type": "markdown",
   "metadata": {},
   "source": [
    "### Read in and clean data"
   ]
  },
  {
   "cell_type": "code",
   "execution_count": 66,
   "metadata": {},
   "outputs": [
    {
     "name": "stdout",
     "output_type": "stream",
     "text": [
      "dict_keys(['photo_tags', 'photos', 'users', 'tags', 'comments', 'likes', 'follows'])\n"
     ]
    }
   ],
   "source": [
    "# Read in all the csv files from the data folder and save them as a dictionary of DataFrames\n",
    "data_dir = Path('data')\n",
    "dfs = {}\n",
    "\n",
    "try:\n",
    "    for file_path in data_dir.glob('*.csv'):\n",
    "        if file_path.is_file():\n",
    "            # Get the filename without extension\n",
    "            file_name = file_path.stem  \n",
    "            df = pd.read_csv(file_path)\n",
    "            dfs[file_name] = df\n",
    "except Exception as e:\n",
    "    print(f\"Error occurred: {e}\")\n",
    "\n",
    "# Check the keys of the dictionary\n",
    "print(dfs.keys())\n",
    "\n",
    "# Save each DataFrame as individual dfs\n",
    "for key, df in dfs.items():\n",
    "    globals()[f'df_{key}'] = df"
   ]
  },
  {
   "cell_type": "code",
   "execution_count": 67,
   "metadata": {},
   "outputs": [
    {
     "name": "stdout",
     "output_type": "stream",
     "text": [
      "Nulls in DataFrame photo_tags:\n",
      "0\n",
      "Nulls in DataFrame photos:\n",
      "0\n",
      "Nulls in DataFrame users:\n",
      "0\n",
      "Nulls in DataFrame tags:\n",
      "0\n",
      "Nulls in DataFrame comments:\n",
      "0\n",
      "Nulls in DataFrame likes:\n",
      "0\n",
      "Nulls in DataFrame follows:\n",
      "0\n"
     ]
    }
   ],
   "source": [
    "# Check for nulls in each df\n",
    "for key, df in dfs.items():\n",
    "    print(f\"Nulls in DataFrame {key}:\")\n",
    "    print(df.isnull().sum().sum())\n"
   ]
  },
  {
   "cell_type": "code",
   "execution_count": 68,
   "metadata": {},
   "outputs": [],
   "source": [
    "# Replace spaces with underscores in the column names and make all lowercase\n",
    "for key, df in dfs.items():\n",
    "    df.columns = df.columns.str.replace(' ', '_')\n",
    "    df.columns = df.columns.str.lower()"
   ]
  },
  {
   "cell_type": "code",
   "execution_count": 69,
   "metadata": {},
   "outputs": [],
   "source": [
    "# Change yes/no columns to boolean values and data type\n",
    "for key, df in dfs.items():\n",
    "    for col in df.columns:\n",
    "        # If columns only contain yes or no, change to boolean\n",
    "        if df[col].isin(['yes', 'no']).all():\n",
    "            df[col] = df[col].map({'yes': True, 'no': False})"
   ]
  },
  {
   "cell_type": "code",
   "execution_count": 70,
   "metadata": {},
   "outputs": [],
   "source": [
    "# Convert the created columns to datetime data type\n",
    "date_time_cols = ['created_dat','created_date', 'created_time', 'created_timestamp']\n",
    "\n",
    "for key, df in dfs.items():\n",
    "    for col in date_time_cols:\n",
    "        if col in df.columns:\n",
    "            df[col] = pd.to_datetime(df[col], errors='coerce')  # Coerce will return NaT for invalid dates\n"
   ]
  },
  {
   "cell_type": "code",
   "execution_count": 71,
   "metadata": {},
   "outputs": [],
   "source": [
    "# Create new id columns for the likes and follows dataframes as they will be used as foreign keys in the interactions table\n",
    "df_likes['like_id'] = (df_likes.index + 1).astype(int)\n",
    "df_follows['follow_id'] = df_follows.index + 1"
   ]
  },
  {
   "cell_type": "code",
   "execution_count": 72,
   "metadata": {},
   "outputs": [],
   "source": [
    "# Rename the columns in each dataframe to match the database schema\n",
    "df_photos.rename(columns={'created_dat': 'created_date','id':'photo_id'}, inplace=True)\n",
    "df_users.rename(columns={'id': 'user_id','private/public':'private'}, inplace=True)\n",
    "df_tags.rename(columns={'id': 'tag_id'}, inplace=True)\n",
    "df_comments.rename(columns={'user__id': 'user_id','id':'comment_id','created_timestamp':'created_time'}, inplace=True)\n",
    "df_likes.rename(columns={'user_': 'user_id', 'photo': 'photo_id'}, inplace=True)\n",
    "df_follows.rename(columns={'follower': 'follower_user_id', 'followee_': 'user_id'}, inplace=True)"
   ]
  },
  {
   "cell_type": "markdown",
   "metadata": {},
   "source": [
    "##### Create interaction dataframe from likes, comments, and follows dataframes"
   ]
  },
  {
   "cell_type": "code",
   "execution_count": 73,
   "metadata": {},
   "outputs": [],
   "source": [
    "# Combine Likes, Comments, and Follows DataFrames into a single Interactions DataFrame\n",
    "df_interactions = pd.concat([df_likes, df_comments, df_follows], ignore_index=True)\n",
    "\n",
    "# Create interaction_id column\n",
    "df_interactions['interaction_id'] = df_interactions.index + 1\n",
    "\n",
    "# Add a new column to indicate the type of interaction ('like', 'comment', or 'follow')\n",
    "df_interactions['interaction_type'] = pd.Series(['like'] * len(df_likes) + ['comment'] * len(df_comments) + ['follow'] * len(df_follows))\n",
    "\n",
    "# Add an interaction date column (you can use 'created_time' column or any other appropriate date column)\n",
    "df_interactions['interaction_date'] = df_interactions['created_time']\n",
    "\n",
    "# List of columns to keep\n",
    "keep_cols = ['interaction_id', 'interaction_type', 'interaction_date', 'user_id', 'photo_id', 'comment_id', 'like_id','follow_id']\n",
    "\n",
    "# Remove columns that are not in the keep_cols list\n",
    "df_interactions = df_interactions[[col for col in df_interactions.columns if col in keep_cols]]\n",
    "\n",
    "# Make sure the id columns are integers even though they contain NaN values\n",
    "id_cols = ['user_id', 'photo_id', 'comment_id', 'like_id', 'follow_id']\n",
    "for col in id_cols:\n",
    "    df_interactions[col] = df_interactions[col].astype('Int64')\n"
   ]
  },
  {
   "attachments": {},
   "cell_type": "markdown",
   "metadata": {},
   "source": [
    "### Create a SQLite Database \n",
    "The database is designed in a star schema with a the central facts table being the Interactions table and all others the being the dimension tables. "
   ]
  },
  {
   "cell_type": "code",
   "execution_count": 74,
   "metadata": {},
   "outputs": [
    {
     "name": "stdout",
     "output_type": "stream",
     "text": [
      "Rows in Users table: 100\n",
      "Rows in Photos table: 257\n",
      "Rows in Tags table: 21\n",
      "Rows in Comments table: 7488\n",
      "Rows in Likes table: 8782\n",
      "Rows in Follows table: 7623\n",
      "Rows in Interactions table: 23893\n"
     ]
    }
   ],
   "source": [
    "# Define the database file\n",
    "db_file = 'insta_lite.db'\n",
    "\n",
    "# Connect to the database\n",
    "conn = sqlite3.connect(db_file)\n",
    "cursor = conn.cursor()\n",
    "\n",
    "# Create the Users table\n",
    "cursor.execute('''CREATE TABLE IF NOT EXISTS users (\n",
    "                    user_id INTEGER PRIMARY KEY,\n",
    "                    name TEXT,\n",
    "                    created_time DATE,\n",
    "                    private BOOLEAN,\n",
    "                    post_count INTEGER,\n",
    "                    verified_status BOOLEAN\n",
    "                )''')\n",
    "\n",
    "# Convert DataFrame to data in the Users table\n",
    "df_users.to_sql('users', conn, if_exists='append', index=False)\n",
    "print(\"Rows in Users table:\", cursor.execute('SELECT COUNT(*) FROM users').fetchone()[0])\n",
    "\n",
    "# Create the Photos table\n",
    "cursor.execute('''CREATE TABLE IF NOT EXISTS photos (\n",
    "                    photo_id INTEGER PRIMARY KEY,\n",
    "                    image_link TEXT,\n",
    "                    user_id INTEGER,\n",
    "                    created_date DATE,\n",
    "                    insta_filter_used BOOLEAN,\n",
    "                    photo_type TEXT,\n",
    "                    FOREIGN KEY (user_id) REFERENCES users(user_id)\n",
    "                )''')\n",
    "\n",
    "# Convert DataFrame to data in the Photos table\n",
    "df_photos.to_sql('photos', conn, if_exists='append', index=False)\n",
    "print(\"Rows in Photos table:\", cursor.execute('SELECT COUNT(*) FROM photos').fetchone()[0])\n",
    "\n",
    "# Create the Tags table\n",
    "cursor.execute('''CREATE TABLE IF NOT EXISTS tags (\n",
    "                    tag_id INTEGER PRIMARY KEY,\n",
    "                    tag_text TEXT,\n",
    "                    created_time DATE,\n",
    "                    location TEXT\n",
    "                )''')\n",
    "\n",
    "# Convert DataFrame to data in the Tags table\n",
    "df_tags.to_sql('tags', conn, if_exists='append', index=False)\n",
    "print(\"Rows in Tags table:\", cursor.execute('SELECT COUNT(*) FROM tags').fetchone()[0])\n",
    "\n",
    "# Create the Comments table\n",
    "cursor.execute('''CREATE TABLE IF NOT EXISTS comments (\n",
    "                    comment_id INTEGER PRIMARY KEY,\n",
    "                    user_id INTEGER,\n",
    "                    photo_id INTEGER,\n",
    "                    created_time DATETIME,\n",
    "                    posted_date TEXT,\n",
    "                    comment TEXT,\n",
    "                    emoji_used BOOLEAN,\n",
    "                    hashtags_used_count INTEGER,\n",
    "                    FOREIGN KEY (user_id) REFERENCES users(user_id),\n",
    "                    FOREIGN KEY (photo_id) REFERENCES photos(photo_id)\n",
    "                )''')\n",
    "\n",
    "# Convert DataFrame to data in the Comments table\n",
    "df_comments.to_sql('comments', conn, if_exists='append', index=False)\n",
    "print(\"Rows in Comments table:\", cursor.execute('SELECT COUNT(*) FROM comments').fetchone()[0])\n",
    "\n",
    "# Create the Likes table\n",
    "cursor.execute('''CREATE TABLE IF NOT EXISTS likes (\n",
    "                    like_id INTEGER PRIMARY KEY,\n",
    "                    user_id INTEGER,\n",
    "                    photo_id INTEGER,\n",
    "                    created_time DATE,\n",
    "                    following_or_not BOOLEAN,\n",
    "                    like_type TEXT,\n",
    "                    FOREIGN KEY (user_id) REFERENCES users(user_id),\n",
    "                    FOREIGN KEY (photo_id) REFERENCES photos(photo_id)\n",
    "                )''')\n",
    "\n",
    "# Convert DataFrame to data in the Likes table\n",
    "df_likes.to_sql('likes', conn, if_exists='append', index=False)\n",
    "print(\"Rows in Likes table:\", cursor.execute('SELECT COUNT(*) FROM likes').fetchone()[0])\n",
    "\n",
    "# Create the Follows table\n",
    "cursor.execute('''CREATE TABLE IF NOT EXISTS follows (\n",
    "                    follow_id INTEGER PRIMARY KEY,\n",
    "                    follower_user_id INTEGER,\n",
    "                    user_id INTEGER,\n",
    "                    created_time DATE,\n",
    "                    is_follower_active INTEGER,\n",
    "                    followee_acc_status TEXT,\n",
    "                    FOREIGN KEY (follower_user_id) REFERENCES users(user_id),\n",
    "                    FOREIGN KEY (user_id) REFERENCES users(user_id)\n",
    "                )''')\n",
    "\n",
    "# Convert DataFrame to data in the Follows table\n",
    "df_follows.to_sql('follows', conn, if_exists='append', index=False)\n",
    "print(\"Rows in Follows table:\", cursor.execute('SELECT COUNT(*) FROM follows').fetchone()[0])\n",
    "\n",
    "# Create the Interactions table\n",
    "cursor.execute('''CREATE TABLE IF NOT EXISTS interactions (\n",
    "                    interaction_id INTEGER PRIMARY KEY,\n",
    "                    user_id INTEGER,\n",
    "                    photo_id INTEGER,\n",
    "                    tag_id INTEGER,\n",
    "                    comment_id INTEGER,\n",
    "                    like_id INTEGER,\n",
    "                    follow_id INTEGER,\n",
    "                    interaction_date DATE,\n",
    "                    interaction_type TEXT,\n",
    "                    FOREIGN KEY (user_id) REFERENCES users(user_id),\n",
    "                    FOREIGN KEY (photo_id) REFERENCES photos(photo_id),\n",
    "                    FOREIGN KEY (tag_id) REFERENCES tags(tag_id),\n",
    "                    FOREIGN KEY (comment_id) REFERENCES comments(comment_id),\n",
    "                    FOREIGN KEY (like_id) REFERENCES likes(like_id),\n",
    "                    FOREIGN KEY (follow_id) REFERENCES follows(follow_id)\n",
    "                )''')\n",
    "\n",
    "# Convert DataFrame to data in the Interactions table\n",
    "df_interactions.to_sql('interactions', conn, if_exists='append', index=False)\n",
    "print(\"Rows in Interactions table:\", cursor.execute('SELECT COUNT(*) FROM interactions').fetchone()[0])\n",
    "\n",
    "# Commit the changes and close the connection\n",
    "conn.commit()\n",
    "conn.close()\n"
   ]
  },
  {
   "attachments": {},
   "cell_type": "markdown",
   "metadata": {},
   "source": [
    "### Test Query the Database"
   ]
  },
  {
   "cell_type": "code",
   "execution_count": 75,
   "metadata": {},
   "outputs": [
    {
     "name": "stdout",
     "output_type": "stream",
     "text": [
      "Number of photos in the photos table: 257\n",
      "Number of users in the users table: 100\n",
      "Number of tags in the tags table: 21\n",
      "Number of likes in the interactions table: 8782\n",
      "Number of comments in the interactions table: 7488\n",
      "Number of follows in the interactions table: 7623\n"
     ]
    }
   ],
   "source": [
    "# Connect to the SQLite database\n",
    "db_path = \"insta_lite.db\"\n",
    "conn = sqlite3.connect(db_path)\n",
    "cursor = conn.cursor()\n",
    "\n",
    "# Query and print the # of photos in the photos table\n",
    "cursor.execute(\"SELECT COUNT(*) FROM photos\")\n",
    "photo_count = cursor.fetchone()[0]\n",
    "print(f\"Number of photos in the photos table: {photo_count}\")\n",
    "\n",
    "# Query and print the # of users in the users table\n",
    "cursor.execute(\"SELECT COUNT(*) FROM users\")\n",
    "user_count = cursor.fetchone()[0]\n",
    "print(f\"Number of users in the users table: {user_count}\")\n",
    "\n",
    "# Query the count of distinct tags in the tags table\n",
    "cursor.execute(\"SELECT COUNT(DISTINCT tag_id) FROM tags\")\n",
    "tag_count = cursor.fetchone()[0]\n",
    "print(f\"Number of tags in the tags table: {tag_count}\")\n",
    "\n",
    "# Query and print the # of likes in the interactions table\n",
    "cursor.execute(\"SELECT COUNT(*) FROM interactions WHERE interaction_type = 'like'\")\n",
    "like_count = cursor.fetchone()[0]\n",
    "print(f\"Number of likes in the interactions table: {like_count}\")\n",
    "\n",
    "# Query and print the # of comments in the interactions table\n",
    "cursor.execute(\"SELECT COUNT(*) FROM interactions WHERE interaction_type = 'comment'\")\n",
    "comment_count = cursor.fetchone()[0]\n",
    "print(f\"Number of comments in the interactions table: {comment_count}\")\n",
    "\n",
    "# Query and print the # of follows in the interactions table\n",
    "cursor.execute(\"SELECT COUNT(*) FROM interactions WHERE interaction_type = 'follow'\")\n",
    "follow_count = cursor.fetchone()[0]\n",
    "print(f\"Number of follows in the interactions table: {follow_count}\")\n",
    "\n",
    "# Close the connection\n",
    "conn.close()"
   ]
  }
 ],
 "metadata": {
  "kernelspec": {
   "display_name": "dev",
   "language": "python",
   "name": "python3"
  },
  "language_info": {
   "codemirror_mode": {
    "name": "ipython",
    "version": 3
   },
   "file_extension": ".py",
   "mimetype": "text/x-python",
   "name": "python",
   "nbconvert_exporter": "python",
   "pygments_lexer": "ipython3",
   "version": "3.10.11"
  },
  "orig_nbformat": 4,
  "vscode": {
   "interpreter": {
    "hash": "4396f389b93e7269692bd3bea4c62813bbe379469bde939b058805f538feec11"
   }
  }
 },
 "nbformat": 4,
 "nbformat_minor": 2
}
